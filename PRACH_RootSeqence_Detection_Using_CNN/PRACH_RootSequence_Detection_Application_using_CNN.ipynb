{
  "nbformat": 4,
  "nbformat_minor": 0,
  "metadata": {
    "colab": {
      "provenance": []
    },
    "kernelspec": {
      "name": "python3",
      "display_name": "Python 3"
    },
    "language_info": {
      "name": "python"
    }
  },
  "cells": [
    {
      "cell_type": "code",
      "execution_count": 79,
      "metadata": {
        "colab": {
          "base_uri": "https://localhost:8080/"
        },
        "id": "TuvYOonCnDva",
        "outputId": "a66f3ce5-b945-4437-e897-da02040daae6"
      },
      "outputs": [
        {
          "output_type": "stream",
          "name": "stdout",
          "text": [
            "myconv_net(\n",
            "  (conv1): Conv1d(2, 2, kernel_size=(200,), stride=(1,))\n",
            "  (conv2): Conv1d(2, 2, kernel_size=(100,), stride=(1,))\n",
            "  (conv3): Conv1d(2, 2, kernel_size=(50,), stride=(1,))\n",
            "  (conv4): Conv1d(2, 2, kernel_size=(128,), stride=(1,))\n",
            "  (conv5): Conv1d(2, 2, kernel_size=(64,), stride=(1,))\n",
            "  (fc1): Linear(in_features=302, out_features=256, bias=True)\n",
            "  (fc2): Linear(in_features=256, out_features=128, bias=True)\n",
            ")\n"
          ]
        }
      ],
      "source": [
        "import torch\n",
        "import torch.nn as nn\n",
        "import torch.nn.functional as F\n",
        "\n",
        "class myconv_net(nn.Module):\n",
        "  def __init__(self):\n",
        "    super().__init__()\n",
        "    self.conv1 = nn.Conv1d(2,2,200)  ## Channels 2 as real and imaginary for inp & out, 100 is filter length being applied , 839-200+1 = 640\n",
        "    self.conv2 = nn.Conv1d(2,2,100)   ## 640-100+1 = 541\n",
        "    self.conv3 = nn.Conv1d(2,2,50)   ## 541-50+1 = 492\n",
        "    self.conv4 = nn.Conv1d(2,2,128)   ## 492-128+1 = 365\n",
        "    self.conv5 = nn.Conv1d(2,2,64)    ## 365 -64+1 = 302\n",
        "\n",
        "    self.fc1 = nn.Linear(302,256)\n",
        "    self.fc2 = nn.Linear(256,128)\n",
        "  def forward(self, x):\n",
        "        # x shape: [B, 839, 2]\n",
        "        x = x.permute(0, 2, 1)  # → [B, 2, 839]\n",
        "\n",
        "        x = F.relu(self.conv1(x))  # → [B, 2, 640]\n",
        "        x = F.relu(self.conv2(x))  # → [B, 2, 541]\n",
        "        x = F.relu(self.conv3(x))  # → [B, 2, 492]\n",
        "        x = F.relu(self.conv4(x))  # → [B, 2, 365]\n",
        "        x = F.relu(self.conv5(x))  # → [B, 2, 302]\n",
        "\n",
        "        # 🔥 Max over channels (dim=1)\n",
        "        x = torch.max(x, dim=1)[0]  # → [B, 302]\n",
        "\n",
        "        x = F.relu(self.fc1(x))     # → [B, 256]\n",
        "        x = self.fc2(x)             # → [B, num_classes]\n",
        "\n",
        "        return x\n",
        "\n",
        "model = myconv_net()\n",
        "print(model)"
      ]
    },
    {
      "cell_type": "code",
      "source": [
        "import torch.optim as optim\n",
        "criteria = nn.CrossEntropyLoss()\n",
        "optimizer = optim.Adam(model.parameters(), lr=0.001)"
      ],
      "metadata": {
        "id": "SKFRg0MMALqg"
      },
      "execution_count": 80,
      "outputs": []
    },
    {
      "cell_type": "code",
      "source": [
        "from torch.utils.data import DataLoader\n",
        "from torch.utils.data import TensorDataset\n",
        "import pandas as pd\n",
        "import os\n",
        "from google.colab import drive\n",
        "drive.mount('/content/gdrive')\n",
        "os.chdir('/content/gdrive/MyDrive/Colab Notebooks')\n",
        "print(\"Loading Data\")\n",
        "labels = pd.read_csv('Labels.csv', header=None)\n",
        "Training = pd.read_csv('Training_Data.csv', header=None)\n",
        "# Stack real and imaginary components in the desired format\n",
        "num_samples = Training.shape[0]  # Get the number of samples\n",
        "num_features = Training.shape[1]  # Get the number of original features\n",
        "Training = Training.applymap(lambda x: complex(str(x).replace(\"i\",\"j\")))"
      ],
      "metadata": {
        "colab": {
          "base_uri": "https://localhost:8080/"
        },
        "id": "dTZCkbveAiPd",
        "outputId": "cac35aff-d583-4859-9a78-23e1d4d41054"
      },
      "execution_count": 81,
      "outputs": [
        {
          "output_type": "stream",
          "name": "stdout",
          "text": [
            "Drive already mounted at /content/gdrive; to attempt to forcibly remount, call drive.mount(\"/content/gdrive\", force_remount=True).\n",
            "Loading Data\n"
          ]
        },
        {
          "output_type": "stream",
          "name": "stderr",
          "text": [
            "/tmp/ipython-input-281073872.py:14: FutureWarning: DataFrame.applymap has been deprecated. Use DataFrame.map instead.\n",
            "  Training = Training.applymap(lambda x: complex(str(x).replace(\"i\",\"j\")))\n"
          ]
        }
      ]
    },
    {
      "cell_type": "code",
      "source": [
        "real = Training.applymap(lambda x: x.real)\n",
        "imag = Training.applymap(lambda x: x.imag)\n"
      ],
      "metadata": {
        "colab": {
          "base_uri": "https://localhost:8080/"
        },
        "id": "-VFx7evxC7GI",
        "outputId": "f181ac9c-2808-461e-a7be-237acebde649"
      },
      "execution_count": 82,
      "outputs": [
        {
          "output_type": "stream",
          "name": "stderr",
          "text": [
            "/tmp/ipython-input-242914066.py:1: FutureWarning: DataFrame.applymap has been deprecated. Use DataFrame.map instead.\n",
            "  real = Training.applymap(lambda x: x.real)\n",
            "/tmp/ipython-input-242914066.py:2: FutureWarning: DataFrame.applymap has been deprecated. Use DataFrame.map instead.\n",
            "  imag = Training.applymap(lambda x: x.imag)\n"
          ]
        }
      ]
    },
    {
      "cell_type": "code",
      "source": [
        "import numpy as np\n",
        "X = torch.tensor(np.stack([real.to_numpy(), imag.to_numpy()],axis=-1), dtype=torch.float32)\n",
        "print(X.shape)\n",
        "Y = torch.tensor(labels.transpose().to_numpy(), dtype=torch.long)\n",
        "print(Y.shape)\n",
        "Y = np.argmax(Y, axis=1)\n"
      ],
      "metadata": {
        "colab": {
          "base_uri": "https://localhost:8080/"
        },
        "id": "3WrHNpjvGIsp",
        "outputId": "30d0d0cc-d19b-4256-8bfe-995ce7971d2d"
      },
      "execution_count": 105,
      "outputs": [
        {
          "output_type": "stream",
          "name": "stdout",
          "text": [
            "torch.Size([4096, 839, 2])\n",
            "torch.Size([4096, 128])\n"
          ]
        }
      ]
    },
    {
      "cell_type": "code",
      "source": [
        "from sklearn.model_selection import train_test_split\n",
        "## 0.8 train, 0.1 Val, 0.1 Test\n",
        "\n",
        "X_temp, X_test = train_test_split(X, test_size=0.1, random_state=42)\n",
        "X_train, X_val = train_test_split(X, test_size=0.111, random_state=42)\n",
        "\n",
        "Y_temp, Y_test = train_test_split(Y, test_size=0.1, random_state=42)\n",
        "Y_train, Y_val = train_test_split(Y, test_size=0.111, random_state=42)"
      ],
      "metadata": {
        "id": "s27D2nscIODp"
      },
      "execution_count": 106,
      "outputs": []
    },
    {
      "cell_type": "code",
      "source": [
        "from torch.utils.data import DataLoader, Dataset\n",
        "\n",
        "class MyDataset(Dataset):\n",
        "  def __init__(self,X,Y):\n",
        "    self.X = X\n",
        "    self.Y = Y\n",
        "  def __len__(self):\n",
        "    return len(self.X)\n",
        "  def __getitem__(self,idx):\n",
        "    return self.X[idx], self.Y[idx]\n",
        "\n",
        "train_dataset = MyDataset(X_train,Y_train)\n",
        "val_dataset = MyDataset(X_val,Y_val)\n",
        "test_dataset = MyDataset(X_test,Y_test)"
      ],
      "metadata": {
        "id": "Lu2b4yx8JnXB"
      },
      "execution_count": 107,
      "outputs": []
    },
    {
      "cell_type": "code",
      "source": [
        "trainloader = DataLoader(train_dataset, batch_size=64, shuffle=True)\n",
        "valloader = DataLoader(val_dataset, batch_size=64, shuffle=True)\n",
        "testloader = DataLoader(test_dataset, batch_size=64, shuffle=True)\n",
        "print(trainloader.dataset.X.__getitem__(0).shape)"
      ],
      "metadata": {
        "colab": {
          "base_uri": "https://localhost:8080/"
        },
        "id": "Y059EFJ-KrNP",
        "outputId": "7453de20-35a3-434a-a354-e8dcca544f01"
      },
      "execution_count": 108,
      "outputs": [
        {
          "output_type": "stream",
          "name": "stdout",
          "text": [
            "torch.Size([839, 2])\n"
          ]
        }
      ]
    },
    {
      "cell_type": "code",
      "source": [
        "device = torch.device(\"cuda\" if torch.cuda.is_available() else \"cpu\")\n",
        "model.to(device)\n",
        "def train(model, train_loader, val_loader, criteria, optimizer, num_epochs=1):\n",
        "    model.train()\n",
        "    for epoch in range(num_epochs):\n",
        "      running_loss = 0.0\n",
        "      correct = 0\n",
        "      total = 0\n",
        "      for inputs, labels in train_loader:\n",
        "        inputs, labels = inputs.to(device), labels.to(device)\n",
        "        outputs = model(inputs)\n",
        "        loss = criteria(outputs, labels)\n",
        "        optimizer.zero_grad()\n",
        "        loss.backward()\n",
        "        optimizer.step()\n",
        "\n",
        "        running_loss += loss.item() * inputs.size(0)\n",
        "        _, predicted = torch.max(outputs, 1)\n",
        "        correct += (predicted == labels).sum().item()\n",
        "        total += labels.size(0)\n",
        "\n",
        "      train_loss = running_loss / total\n",
        "      train_acc = correct / total\n",
        "\n",
        "      # Validation at end of epoch\n",
        "      val_acc = evaluate(model, val_loader)\n",
        "\n",
        "      print(f\"Epoch {epoch+1}: \"\n",
        "            f\"Train Loss={train_loss:.4f}, \"\n",
        "            f\"Train Acc={train_acc:.4f}, \"\n",
        "            f\"Val Acc={val_acc:.4f}\")"
      ],
      "metadata": {
        "id": "tgR_HCOTKyFP"
      },
      "execution_count": 109,
      "outputs": []
    },
    {
      "cell_type": "code",
      "source": [
        "def evaluate(model, dataloader):\n",
        "    model.eval()\n",
        "    correct = 0\n",
        "    total = 0\n",
        "\n",
        "    with torch.no_grad():\n",
        "        for inputs, labels in dataloader:\n",
        "            inputs, labels = inputs.to(device), labels.to(device)\n",
        "            outputs = model(inputs)\n",
        "            _, predicted = torch.max(outputs, 1)\n",
        "            correct += (predicted == labels).sum().item()\n",
        "            total += labels.size(0)\n",
        "\n",
        "    model.train()  # Switch back to training mode\n",
        "    return correct / total"
      ],
      "metadata": {
        "id": "_Q65b4o0OM1n"
      },
      "execution_count": 110,
      "outputs": []
    },
    {
      "cell_type": "code",
      "source": [
        "print(X_test.shape)\n",
        "print(Y_test.shape)"
      ],
      "metadata": {
        "colab": {
          "base_uri": "https://localhost:8080/"
        },
        "id": "ZfhQgXbZPoGi",
        "outputId": "8e28cab9-0254-4cc4-8d5c-4c12ea882913"
      },
      "execution_count": 111,
      "outputs": [
        {
          "output_type": "stream",
          "name": "stdout",
          "text": [
            "torch.Size([410, 839, 2])\n",
            "torch.Size([410])\n"
          ]
        }
      ]
    },
    {
      "cell_type": "code",
      "source": [
        "train(model, trainloader, valloader, criteria, optimizer, num_epochs=50)\n"
      ],
      "metadata": {
        "colab": {
          "base_uri": "https://localhost:8080/"
        },
        "id": "HNsbH1g2RALz",
        "outputId": "cb684150-8018-4371-93ec-67b513051fad"
      },
      "execution_count": 113,
      "outputs": [
        {
          "output_type": "stream",
          "name": "stdout",
          "text": [
            "Epoch 1: Train Loss=0.4189, Train Acc=0.8871, Val Acc=0.9231\n",
            "Epoch 2: Train Loss=0.2474, Train Acc=0.9374, Val Acc=0.9648\n",
            "Epoch 3: Train Loss=0.1375, Train Acc=0.9662, Val Acc=0.9692\n",
            "Epoch 4: Train Loss=0.1687, Train Acc=0.9566, Val Acc=0.9802\n",
            "Epoch 5: Train Loss=0.0884, Train Acc=0.9791, Val Acc=0.9824\n",
            "Epoch 6: Train Loss=0.0386, Train Acc=0.9923, Val Acc=0.9868\n",
            "Epoch 7: Train Loss=0.0759, Train Acc=0.9800, Val Acc=0.9802\n",
            "Epoch 8: Train Loss=0.0393, Train Acc=0.9901, Val Acc=0.9516\n",
            "Epoch 9: Train Loss=0.1062, Train Acc=0.9709, Val Acc=0.9780\n",
            "Epoch 10: Train Loss=0.0307, Train Acc=0.9920, Val Acc=0.9956\n",
            "Epoch 11: Train Loss=0.0513, Train Acc=0.9876, Val Acc=0.9890\n",
            "Epoch 12: Train Loss=0.0179, Train Acc=0.9973, Val Acc=0.9978\n",
            "Epoch 13: Train Loss=0.0572, Train Acc=0.9882, Val Acc=0.9582\n",
            "Epoch 14: Train Loss=0.0431, Train Acc=0.9887, Val Acc=0.9912\n",
            "Epoch 15: Train Loss=0.0488, Train Acc=0.9857, Val Acc=0.9648\n",
            "Epoch 16: Train Loss=0.0372, Train Acc=0.9896, Val Acc=0.9978\n",
            "Epoch 17: Train Loss=0.0119, Train Acc=0.9964, Val Acc=0.9846\n",
            "Epoch 18: Train Loss=0.0195, Train Acc=0.9959, Val Acc=0.9912\n",
            "Epoch 19: Train Loss=0.0086, Train Acc=0.9986, Val Acc=1.0000\n",
            "Epoch 20: Train Loss=0.0023, Train Acc=0.9997, Val Acc=1.0000\n",
            "Epoch 21: Train Loss=0.0007, Train Acc=1.0000, Val Acc=1.0000\n",
            "Epoch 22: Train Loss=0.0005, Train Acc=1.0000, Val Acc=1.0000\n",
            "Epoch 23: Train Loss=0.0004, Train Acc=1.0000, Val Acc=1.0000\n",
            "Epoch 24: Train Loss=0.0003, Train Acc=1.0000, Val Acc=1.0000\n",
            "Epoch 25: Train Loss=0.0003, Train Acc=1.0000, Val Acc=1.0000\n",
            "Epoch 26: Train Loss=0.0002, Train Acc=1.0000, Val Acc=1.0000\n",
            "Epoch 27: Train Loss=0.0002, Train Acc=1.0000, Val Acc=1.0000\n",
            "Epoch 28: Train Loss=0.0002, Train Acc=1.0000, Val Acc=1.0000\n",
            "Epoch 29: Train Loss=0.0002, Train Acc=1.0000, Val Acc=1.0000\n",
            "Epoch 30: Train Loss=0.0001, Train Acc=1.0000, Val Acc=1.0000\n",
            "Epoch 31: Train Loss=0.0001, Train Acc=1.0000, Val Acc=1.0000\n",
            "Epoch 32: Train Loss=0.0001, Train Acc=1.0000, Val Acc=1.0000\n",
            "Epoch 33: Train Loss=0.0001, Train Acc=1.0000, Val Acc=1.0000\n",
            "Epoch 34: Train Loss=0.0001, Train Acc=1.0000, Val Acc=1.0000\n",
            "Epoch 35: Train Loss=0.0001, Train Acc=1.0000, Val Acc=1.0000\n",
            "Epoch 36: Train Loss=0.0001, Train Acc=1.0000, Val Acc=1.0000\n",
            "Epoch 37: Train Loss=0.0001, Train Acc=1.0000, Val Acc=1.0000\n",
            "Epoch 38: Train Loss=0.0001, Train Acc=1.0000, Val Acc=1.0000\n",
            "Epoch 39: Train Loss=0.0001, Train Acc=1.0000, Val Acc=1.0000\n",
            "Epoch 40: Train Loss=0.0001, Train Acc=1.0000, Val Acc=1.0000\n",
            "Epoch 41: Train Loss=0.0001, Train Acc=1.0000, Val Acc=1.0000\n",
            "Epoch 42: Train Loss=0.0001, Train Acc=1.0000, Val Acc=1.0000\n",
            "Epoch 43: Train Loss=0.0001, Train Acc=1.0000, Val Acc=1.0000\n",
            "Epoch 44: Train Loss=0.0000, Train Acc=1.0000, Val Acc=1.0000\n",
            "Epoch 45: Train Loss=0.0000, Train Acc=1.0000, Val Acc=1.0000\n",
            "Epoch 46: Train Loss=0.0000, Train Acc=1.0000, Val Acc=1.0000\n",
            "Epoch 47: Train Loss=0.0000, Train Acc=1.0000, Val Acc=1.0000\n",
            "Epoch 48: Train Loss=0.0000, Train Acc=1.0000, Val Acc=1.0000\n",
            "Epoch 49: Train Loss=0.0000, Train Acc=1.0000, Val Acc=1.0000\n",
            "Epoch 50: Train Loss=0.0000, Train Acc=1.0000, Val Acc=1.0000\n"
          ]
        }
      ]
    },
    {
      "cell_type": "code",
      "source": [
        "torch.save(model.state_dict(), \"convnet_model.pt\")\n",
        "test_acc = evaluate(model, testloader)\n",
        "print(f\"Test Accuracy: {test_acc:.4f}\")"
      ],
      "metadata": {
        "colab": {
          "base_uri": "https://localhost:8080/"
        },
        "id": "7DLYI4zOOOiV",
        "outputId": "2f85ee36-11d7-496b-d340-4a6ac6afd4b1"
      },
      "execution_count": 114,
      "outputs": [
        {
          "output_type": "stream",
          "name": "stdout",
          "text": [
            "Test Accuracy: 1.0000\n"
          ]
        }
      ]
    },
    {
      "cell_type": "code",
      "source": [],
      "metadata": {
        "id": "thOX4v96ORP2"
      },
      "execution_count": null,
      "outputs": []
    }
  ]
}